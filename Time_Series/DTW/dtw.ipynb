{
 "cells": [
  {
   "cell_type": "markdown",
   "id": "3ac71ab1",
   "metadata": {},
   "source": [
    "## Dependencies"
   ]
  },
  {
   "cell_type": "code",
   "execution_count": 17,
   "id": "a7005f6d",
   "metadata": {},
   "outputs": [],
   "source": [
    "import numpy as np\n",
    "import pandas as pd"
   ]
  },
  {
   "cell_type": "markdown",
   "id": "68ea23e1",
   "metadata": {},
   "source": [
    "## Core Algorithm"
   ]
  },
  {
   "cell_type": "code",
   "execution_count": 32,
   "id": "18dfc594",
   "metadata": {},
   "outputs": [
    {
     "name": "stdout",
     "output_type": "stream",
     "text": [
      "(5,) <class 'numpy.ndarray'>\n"
     ]
    }
   ],
   "source": [
    "signal1 = np.random.rand(5)\n",
    "signal2 = np.random.rand(7)\n",
    "\n",
    "print(signal1.shape,type(signal2))"
   ]
  },
  {
   "cell_type": "code",
   "execution_count": 33,
   "id": "1d19266f",
   "metadata": {},
   "outputs": [],
   "source": [
    "def dtw(signal1:np.array,signal2:np.array,normalized:bool=True):\n",
    "\n",
    "    N,M = len(signal1),len(signal2)\n",
    "\n",
    "    # calculate the distance between signals\n",
    "    distance_matrix = np.zeros(shape=(N,M))\n",
    "    for i in range(N):\n",
    "        for j in range(M):\n",
    "            distance_matrix[i,j] = abs(signal1[i]-signal2[j])\n",
    "\n",
    "    # # Initialize the cos matrix\n",
    "    cost_matrix = np.full((N+1, M+1), np.inf)\n",
    "    cost_matrix[0, 0] = distance_matrix[0,0]\n",
    "\n",
    "    # filling the cost matrix\n",
    "    traceback = np.zeros(shape=(N,M))\n",
    "    for i in range(N):\n",
    "        for j in range(M):\n",
    "            choices=[\n",
    "                cost_matrix[i,j],      # match (0)\n",
    "                cost_matrix[i,j+1],    # insertion (1)\n",
    "                cost_matrix[i+1,j]     # deletion (2)\n",
    "            ]\n",
    "\n",
    "            min_choice = np.argmin(choices)\n",
    "            cost_matrix[i+1,j+1] = distance_matrix[i,j] + choices[min_choice]\n",
    "\n",
    "            traceback[i,j]=min_choice\n",
    "\n",
    "    dtw_distance = cost_matrix[N,M]\n",
    "\n",
    "    # traceback from bottom right\n",
    "    i = N-1\n",
    "    j = M-1\n",
    "    path = [(i,j)]\n",
    "    while i>0 or j>0:\n",
    "        # Handle boundaries explicitly\n",
    "        if i == 0:\n",
    "            j -= 1\n",
    "        elif j == 0:\n",
    "            i -= 1\n",
    "        else:\n",
    "            tb_direction = traceback[i, j]\n",
    "            if tb_direction == 0:  # diagonal\n",
    "                i -= 1\n",
    "                j -= 1\n",
    "            elif tb_direction == 1:  # up/insertion\n",
    "                i -= 1\n",
    "            elif tb_direction == 2:  # left/deletion\n",
    "                j -= 1\n",
    "        path.append((i, j))\n",
    "    path.reverse()\n",
    "\n",
    "    if normalized:\n",
    "        return dtw_distance/len(path)\n",
    "    else:\n",
    "        return dtw_distance\n",
    "    \n"
   ]
  },
  {
   "cell_type": "code",
   "execution_count": 35,
   "id": "9e69900a",
   "metadata": {},
   "outputs": [
    {
     "name": "stdout",
     "output_type": "stream",
     "text": [
      "1.4394350779823675\n"
     ]
    }
   ],
   "source": [
    "x = dtw(signal1,signal2,normalized=False)\n",
    "print(x)"
   ]
  }
 ],
 "metadata": {
  "kernelspec": {
   "display_name": "mainenv",
   "language": "python",
   "name": "python3"
  },
  "language_info": {
   "codemirror_mode": {
    "name": "ipython",
    "version": 3
   },
   "file_extension": ".py",
   "mimetype": "text/x-python",
   "name": "python",
   "nbconvert_exporter": "python",
   "pygments_lexer": "ipython3",
   "version": "3.12.7"
  }
 },
 "nbformat": 4,
 "nbformat_minor": 5
}
